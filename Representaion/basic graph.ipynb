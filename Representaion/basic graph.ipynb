{
 "cells": [
  {
   "cell_type": "code",
   "execution_count": 6,
   "id": "19ac0300",
   "metadata": {},
   "outputs": [],
   "source": [
    "#making a basic graph\n",
    "#importing bokeh\n",
    "from bokeh.plotting import figure\n",
    "from bokeh.io import output_file,show\n",
    "\n",
    "#preapre some data\n",
    "x=[1,2,3,4,5]\n",
    "y=[5,6,7,2,1]\n",
    "\n",
    "#data prepare the output\n",
    "output_file(\"line.html\")\n",
    "\n",
    "#create figure objects\n",
    "f=figure()\n",
    "\n",
    "f.line(x,y)\n",
    "\n",
    "show(f)"
   ]
  }
 ],
 "metadata": {
  "kernelspec": {
   "display_name": "Python 3 (ipykernel)",
   "language": "python",
   "name": "python3"
  },
  "language_info": {
   "codemirror_mode": {
    "name": "ipython",
    "version": 3
   },
   "file_extension": ".py",
   "mimetype": "text/x-python",
   "name": "python",
   "nbconvert_exporter": "python",
   "pygments_lexer": "ipython3",
   "version": "3.10.1"
  }
 },
 "nbformat": 4,
 "nbformat_minor": 5
}
